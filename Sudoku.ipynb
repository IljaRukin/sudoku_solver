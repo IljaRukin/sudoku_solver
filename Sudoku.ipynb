{
 "cells": [
  {
   "cell_type": "code",
   "execution_count": 49,
   "metadata": {},
   "outputs": [],
   "source": [
    "import numpy as np\n",
    "import sys\n",
    "\n",
    "class Sudoku:\n",
    "    def __init__(self, grid=None):\n",
    "        self.grid = grid\n",
    "        self.rec_count = 0\n",
    "        if grid is not None:\n",
    "            print(\"      ---Game---\")\n",
    "            print(self.grid)\n",
    "    def newGame(self, num):\n",
    "        #creates game with number \"num\" filled tiles\n",
    "        self.rec_count = 0\n",
    "        self.grid = np.zeros((9,9), dtype=int)\n",
    "        idx = []\n",
    "        idx0 = tuple(np.random.randint(0,9, size=(2)))\n",
    "        while len(idx)<num:\n",
    "            while idx0 in idx:\n",
    "                idx0 = tuple(np.random.randint(0,9, size=(2)))\n",
    "            idx.append(idx0)\n",
    "            choice = list(np.arange(1,10))\n",
    "            val = choice.pop(np.random.randint(0,9))\n",
    "            while (not self.possible(idx0[0],idx0[1],val)) and (len(choice)>0):\n",
    "                if len(choice)>1:\n",
    "                    val = choice.pop(np.random.randint(1,len(choice)))\n",
    "                else:\n",
    "                    val = choice[0]\n",
    "            self.grid[idx0] = val\n",
    "        print(\"    ---New Game---\")\n",
    "        print(self.grid)\n",
    "        return None\n",
    "    def possible(self,y,x,n):\n",
    "        #tests if a number \"n\" is valid at position \"x\",\"y\"\n",
    "        #line\n",
    "        for i in range(0,9):\n",
    "            if self.grid[y][i]==n:\n",
    "                return False\n",
    "        #column\n",
    "        for i in range(0,9):\n",
    "            if self.grid[i][x]==n:\n",
    "                return False\n",
    "        #block\n",
    "        ax, ay = (x//3)*3, (y//3)*3\n",
    "        for i in range(0,3):\n",
    "            for j in range(0,3):\n",
    "                if self.grid[ay+i][ax+j]==n:\n",
    "                    return False\n",
    "        #all tests passed\n",
    "        return True\n",
    "    def solve(self):\n",
    "        #loop recursivly over all positions\n",
    "        self.rec_count += 1\n",
    "        for y in range(0,9):\n",
    "            for x in range(0,9):\n",
    "                #solve if empty entry (0)\n",
    "                if self.grid[y][x]==0 :\n",
    "                    #test all possible values\n",
    "                    for n in range(1,10):\n",
    "                        if self.possible(y,x,n):\n",
    "                            self.grid[y][x] = n\n",
    "                            #if value possible: fill it in and solve with one less unknown\n",
    "                            self.solve()\n",
    "                            #returns if no solution possible or solution found and already printed out\n",
    "                            #-> backtracking\n",
    "                            self.grid[y][x] = 0\n",
    "                    return None\n",
    "        #all elements filled\n",
    "        print(\"    ---Solution---\")\n",
    "        print(self.grid)\n",
    "        print(\"nr. recursions: \",self.rec_count)\n",
    "        response = input(\"do you want another solution ? (y/n)\")\n",
    "        if response!=\"y\":\n",
    "            sys.exit()\n",
    "        return None\n"
   ]
  },
  {
   "cell_type": "markdown",
   "metadata": {},
   "source": [
    "## generate and solve game\n",
    "note: not all games have a solution !"
   ]
  },
  {
   "cell_type": "code",
   "execution_count": 52,
   "metadata": {
    "scrolled": true
   },
   "outputs": [
    {
     "name": "stdout",
     "output_type": "stream",
     "text": [
      "    ---New Game---\n",
      "[[0 7 0 0 0 0 0 0 3]\n",
      " [0 0 0 0 0 1 2 0 0]\n",
      " [0 0 0 0 0 7 4 0 0]\n",
      " [0 1 0 4 0 0 0 0 8]\n",
      " [0 0 3 0 0 0 0 0 6]\n",
      " [0 4 0 6 0 0 0 7 1]\n",
      " [0 0 0 0 8 5 0 3 2]\n",
      " [8 0 0 0 0 0 0 0 9]\n",
      " [0 0 0 0 7 0 0 0 0]]\n",
      "    ---Solution---\n",
      "[[1 7 2 5 4 6 8 9 3]\n",
      " [3 5 4 8 9 1 2 6 7]\n",
      " [6 8 9 2 3 7 4 1 5]\n",
      " [7 1 6 4 5 3 9 2 8]\n",
      " [2 9 3 7 1 8 5 4 6]\n",
      " [5 4 8 6 2 9 3 7 1]\n",
      " [4 6 1 9 8 5 7 3 2]\n",
      " [8 2 7 3 6 4 1 5 9]\n",
      " [9 3 5 1 7 2 6 8 4]]\n",
      "nr. recursions:  189\n",
      "do you want another solution ? (y/n)y\n",
      "    ---Solution---\n",
      "[[1 7 2 5 4 6 8 9 3]\n",
      " [3 5 4 8 9 1 2 6 7]\n",
      " [6 8 9 2 3 7 4 1 5]\n",
      " [7 1 6 4 5 3 9 2 8]\n",
      " [2 9 3 7 1 8 5 4 6]\n",
      " [5 4 8 6 2 9 3 7 1]\n",
      " [4 6 7 9 8 5 1 3 2]\n",
      " [8 2 1 3 6 4 7 5 9]\n",
      " [9 3 5 1 7 2 6 8 4]]\n",
      "nr. recursions:  219\n",
      "do you want another solution ? (y/n)y\n",
      "    ---Solution---\n",
      "[[1 7 2 5 4 6 8 9 3]\n",
      " [3 5 4 8 9 1 2 6 7]\n",
      " [6 8 9 2 3 7 4 1 5]\n",
      " [7 1 6 4 5 9 3 2 8]\n",
      " [2 9 3 7 1 8 5 4 6]\n",
      " [5 4 8 6 2 3 9 7 1]\n",
      " [4 6 1 9 8 5 7 3 2]\n",
      " [8 2 7 3 6 4 1 5 9]\n",
      " [9 3 5 1 7 2 6 8 4]]\n",
      "nr. recursions:  364\n",
      "do you want another solution ? (y/n)n\n"
     ]
    },
    {
     "ename": "SystemExit",
     "evalue": "",
     "output_type": "error",
     "traceback": [
      "An exception has occurred, use %tb to see the full traceback.\n",
      "\u001b[1;31mSystemExit\u001b[0m\n"
     ]
    }
   ],
   "source": [
    "MySudoku = Sudoku()\n",
    "MySudoku.newGame(22)\n",
    "MySudoku.solve()"
   ]
  },
  {
   "cell_type": "markdown",
   "metadata": {},
   "source": [
    "## input and solve game"
   ]
  },
  {
   "cell_type": "code",
   "execution_count": 51,
   "metadata": {
    "scrolled": false
   },
   "outputs": [
    {
     "name": "stdout",
     "output_type": "stream",
     "text": [
      "      ---Game---\n",
      "[[5 3 0 0 7 0 0 0 0]\n",
      " [6 0 0 1 9 5 0 0 0]\n",
      " [0 9 8 0 0 0 0 6 0]\n",
      " [8 0 0 0 6 0 0 0 3]\n",
      " [4 0 0 8 0 3 0 0 1]\n",
      " [7 0 0 0 2 0 0 0 6]\n",
      " [0 6 0 0 0 0 2 8 0]\n",
      " [0 0 0 4 1 9 0 0 5]\n",
      " [0 0 0 0 8 0 0 7 9]]\n",
      "    ---Solution---\n",
      "[[5 3 4 6 7 8 9 1 2]\n",
      " [6 7 2 1 9 5 3 4 8]\n",
      " [1 9 8 3 4 2 5 6 7]\n",
      " [8 5 9 7 6 1 4 2 3]\n",
      " [4 2 6 8 5 3 7 9 1]\n",
      " [7 1 3 9 2 4 8 5 6]\n",
      " [9 6 1 5 3 7 2 8 4]\n",
      " [2 8 7 4 1 9 6 3 5]\n",
      " [3 4 5 2 8 6 1 7 9]]\n",
      "nr. recursions:  4209\n",
      "do you want another solution ? (y/n)y\n"
     ]
    }
   ],
   "source": [
    "grid = np.array([[5,3,0,0,7,0,0,0,0],\n",
    "                 [6,0,0,1,9,5,0,0,0],\n",
    "                 [0,9,8,0,0,0,0,6,0],\n",
    "                 [8,0,0,0,6,0,0,0,3],\n",
    "                 [4,0,0,8,0,3,0,0,1],\n",
    "                 [7,0,0,0,2,0,0,0,6],\n",
    "                 [0,6,0,0,0,0,2,8,0],\n",
    "                 [0,0,0,4,1,9,0,0,5],\n",
    "                 [0,0,0,0,8,0,0,7,9]])\n",
    "MySudoku = Sudoku(grid)\n",
    "MySudoku.solve()"
   ]
  },
  {
   "cell_type": "code",
   "execution_count": null,
   "metadata": {},
   "outputs": [],
   "source": []
  }
 ],
 "metadata": {
  "kernelspec": {
   "display_name": "Python 3",
   "language": "python",
   "name": "python3"
  },
  "language_info": {
   "codemirror_mode": {
    "name": "ipython",
    "version": 3
   },
   "file_extension": ".py",
   "mimetype": "text/x-python",
   "name": "python",
   "nbconvert_exporter": "python",
   "pygments_lexer": "ipython3",
   "version": "3.9.0"
  }
 },
 "nbformat": 4,
 "nbformat_minor": 4
}
